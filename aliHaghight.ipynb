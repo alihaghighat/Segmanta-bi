{
 "cells": [
  {
   "cell_type": "code",
   "execution_count": 131,
   "metadata": {},
   "outputs": [
    {
     "name": "stdout",
     "output_type": "stream",
     "text": [
      "[[-0.07365668 -0.34687937 -0.86520534 ...,  0.58776364 -0.03798966\n",
      "   0.31832695]\n",
      " [ 0.43854985  0.7247187   0.02828016 ...,  0.64341631 -0.12348922\n",
      "  -0.76969928]\n",
      " [ 0.56891911  0.02873068  0.38331778 ..., -0.88114656 -0.24966531\n",
      "  -0.97004279]\n",
      " ..., \n",
      " [-0.13425474 -0.21739432 -0.84145738 ..., -0.86345622  0.81778181\n",
      "  -0.77745134]\n",
      " [ 0.31780613 -0.77785536  0.72328678 ..., -0.84253094  0.40824162\n",
      "  -0.0668994 ]\n",
      " [ 0.93795067  0.3053648  -0.26426615 ...,  0.95705424  0.94813112\n",
      "   0.27529992]]\n"
     ]
    }
   ],
   "source": [
    "import numpy as np\n",
    "shape=(200,8)\n",
    "arr=  np.random.uniform( -1,1,shape)\n",
    "print(arr)"
   ]
  },
  {
   "cell_type": "markdown",
   "metadata": {},
   "source": [
    "در ایجا اومدم و یه رندوم ماتریس بین اعداد -1و1  ساختم که با تغییر  \n",
    "shape \n",
    "می توان  اندازه ماتریس را تغییر داد  "
   ]
  },
  {
   "cell_type": "code",
   "execution_count": 132,
   "metadata": {},
   "outputs": [
    {
     "name": "stdout",
     "output_type": "stream",
     "text": [
      "[ 98 188  68 174   1 105 180 135  10  30]\n",
      "[[  5.24988636   3.16132656   2.33005301 ...,   4.69512729   6.36595198\n",
      "    4.56819073]\n",
      " [  3.73162225   7.48119657   4.469785   ...,   3.85071266   6.60807973\n",
      "    4.99014544]\n",
      " [  7.52213625   7.65533273   4.62295751 ...,   5.82322822   1.90264251\n",
      "    5.87401477]\n",
      " ..., \n",
      " [  7.60841259   9.00996881   5.4000261  ...,   6.63608762   3.22338645\n",
      "   14.28967578]\n",
      " [  1.57109489   7.58585831   7.79846297 ...,   3.73266116   2.98540902\n",
      "    4.57250992]\n",
      " [  2.68417363   7.62420726  10.18227108 ...,   5.82655761   3.33663748\n",
      "    6.58808162]]\n",
      "[8 4 0 1 5 4 4 2 8 4 8 0 4 0 8 0 0 6 2 1 4 4 0 0 1 5 3 5 8 0 9 6 2 6 9 0 5\n",
      " 3 8 7 8 4 1 8 1 3 8 9 0 3 3 0 8 8 1 3 8 0 0 2 8 2 0 4 5 7 1 0 2 3 4 1 0 4\n",
      " 9 0 0 4 4 5 5 3 0 8 5 2 8 6 8 1 0 0 8 3 0 4 8 3 0 2 5 3 5 1 2 5 6 9 6 2 1\n",
      " 1 3 1 8 6 0 1 9 3 9 6 4 1 1 4 0 3 3 4 1 0 2 8 6 7 1 2 1 1 6 0 4 0 0 0 5 8\n",
      " 8 2 5 0 0 0 6 8 2 5 3 9 3 0 0 1 9 0 5 3 0 0 1 3 6 5 3 1 4 1 3 4 6 3 0 1 0\n",
      " 5 5 0 1 0 0 0 3 8 9 9 6 8 2 0]\n",
      "[ 10 105  10   1   1 105 105  98  10 105  10  10 105  10  10  10  10   1\n",
      "  98   1 105 105  10  10   1   1 188   1  10  10   1   1  98   1   1  10\n",
      "   1 188  10  68  10 105   1  10   1 188  10   1  10 188 188  10  10  10\n",
      "   1 188  10  10  10  98  10  98  10 105   1  68   1  10  98 188 105   1\n",
      "  10 105   1  10  10 105 105   1   1 188  10  10   1  98  10   1  10   1\n",
      "  10  10  10 188  10 105  10 188  10  98   1 188   1   1  98   1   1   1\n",
      "   1  98   1   1 188   1  10   1  10   1   1 188   1   1 105   1   1 105\n",
      "  10 188 188 105   1  10  98  10   1  68   1  98   1   1   1  10 105  10\n",
      "  10  10   1  10  10  98   1  10  10  10   1  10  98   1 188   1 188  10\n",
      "  10   1   1  10   1 188  10  10   1 188   1   1 188   1 105   1 188 105\n",
      "   1 188  10   1  10   1   1  10   1  10  10  10 188  10   1   1   1  10\n",
      "  98  10]\n"
     ]
    }
   ],
   "source": [
    "count_pType=int(shape[0]/20)\n",
    "index_random=np.random.choice(shape[0]+1,count_pType)\n",
    "\n",
    "\n",
    "def desAllbyAll(arr):\n",
    "    distance=np.sum((arr[:,np.newaxis,:]-arr)**2, axis=-1)\n",
    "    return distance\n",
    "    \n",
    "\n",
    "distanceAll=desAllbyAll(arr)\n",
    "itemindex = distanceAll[index_random]\n",
    "print(index_random)\n",
    "print(itemindex)\n",
    "index_Of_min_cloumn=np.argmin(itemindex,axis=0)\n",
    "print(index_Of_min_cloumn)\n",
    "row_pTayp=index_Of_min_cloumn.copy()\n",
    "j=0\n",
    "for i in row_pTayp:\n",
    "    row_pTayp[j]=index_random[index_Of_min_cloumn[i]]\n",
    "    j=j+1\n",
    "print(row_pTayp)"
   ]
  },
  {
   "cell_type": "markdown",
   "metadata": {},
   "source": [
    "count_pType می آید و تعداد بروتایب ها را 1/20  قرار می دهد \n",
    "index_random هم می آید به صورت رندوم از بین رنج 0 تا تعداد سطر ها به صورت رندوم ایندکس بروتایب را  بر میگرداند\n",
    "desAllbyAll تابع فوق فاصه همه سطر ها را با یک دیگر حساب می کند.\n",
    "\n",
    "itemindex = distanceAll[index_random]\n",
    "ما فاصله نماینده ها از ماتریس فاصله همه ردیف ها با سایر ردبف ها استخراج کردیم\n",
    "که هر ستون نشان دهنده فاصله نماینده اول  تا سایر نقاط می باشد\n",
    "و ایندکس هر سطر نشان دهنده  ایندکس نماینده  می باشد.\n",
    "\n",
    "index_Of_min_cloumn=np.argmin(itemindex,axis=0)\n",
    "با این خط کد که ایندکس کوچکترین ستون را بر می گرداند عملا داریم  مشخص می کنیم  که هر ستون که خود نشان دهنده ردیف  می باشد  در کدام دسته بندی قرار می گیرد.\n",
    "\n",
    "row_pTayp هر ایندکش نشان دهنده این است که  ان ردیف ماتریش اصلی در سگمنت کدام  نماینده قرار گرفته است"
   ]
  },
  {
   "cell_type": "code",
   "execution_count": 134,
   "metadata": {},
   "outputs": [
    {
     "name": "stdout",
     "output_type": "stream",
     "text": [
      "[[        nan  6.1222312   5.71109674 ...,  8.76142929  1.90316121\n",
      "   7.13754203]\n",
      " [ 6.1222312          nan  1.26962119 ...,  5.04866667  6.69937202\n",
      "   6.80041916]\n",
      " [ 5.71109674  1.26962119         nan ...,  2.45655415  5.14521894\n",
      "   4.29019409]\n",
      " ..., \n",
      " [ 8.76142929  5.04866667  2.45655415 ...,         nan  6.62354502\n",
      "   7.60861602]\n",
      " [ 1.90316121  6.69937202  5.14521894 ...,  6.62354502         nan\n",
      "   7.78483314]\n",
      " [ 7.13754203  6.80041916  4.29019409 ...,  7.60861602  7.78483314\n",
      "          nan]]\n",
      "[ 1.57622854  1.26962119  1.26962119  0.99157102  1.05444247  1.09873238\n",
      "  1.59301946  1.2625507   1.51305214  0.40622702  0.40622702  1.4162804\n",
      "  1.16033656  1.2509867   1.13670265  1.08001193  1.18096     0.97213526\n",
      "  1.42521031  1.01488619  0.93062826  0.95384352  0.89768932  0.93062826\n",
      "  1.48928693  0.62841779  1.20933196  1.09873238  1.47854413  1.55394901\n",
      "  1.63847943  1.05444247  0.97213526  1.08045854  1.82262182  0.62841779\n",
      "  0.88581082  1.41084964  1.06924276  1.42598813  0.88581082  1.86807644\n",
      "  2.43531174  1.17843831  2.05631161]\n",
      "9\n",
      "[-0.35021146  0.73554623  0.70122295 -0.00099169  0.17335411  0.63053933\n",
      "  0.4655257  -0.86118728]\n",
      "[ 98 188  68 174   1 105 180 135  10  30]\n",
      "[48]\n"
     ]
    }
   ],
   "source": [
    "list_segment=[[] for i in range(0,count_pType)]\n",
    "j=0\n",
    "for i in index_Of_min_cloumn :\n",
    "    list_segment[i].append(arr[j])\n",
    "    j=j+1\n",
    "\n",
    "list_newPtype_index=[]\n",
    "\n",
    "for i in list_segment:\n",
    "    temp_array= np.array(i)\n",
    "    # print(temp_array)\n",
    "    distance_segment=desAllbyAll(temp_array)\n",
    "    distance_segment[distance_segment==0]=np.NAN\n",
    "    min_dic_distance_segment=np.nanmin(distance_segment, axis=0)\n",
    "    index_min_dic_distance_segment=np.argmin(min_dic_distance_segment)\n",
    "    # print(distance_segment)\n",
    "    # print(min_dic_distance_segment)\n",
    "    # print(index_min_dic_distance_segment)\n",
    "    # print(temp_array[index_min_dic_distance_segment,:])\n",
    "    new_Ptype= np.where((arr == temp_array[index_min_dic_distance_segment,:]).all(axis=1))\n",
    "    list_newPtype_index.append(new_Ptype[0][0])\n",
    "    # break\n",
    "print(index_random)   \n",
    "print(list_newPtype_index)"
   ]
  },
  {
   "cell_type": "markdown",
   "metadata": {},
   "source": [
    "list_segment=[[] for i in range(0,count_pType)]\n",
    "j=0\n",
    "for i in index_Of_min_cloumn :\n",
    "    list_segment[i].append(arr[j])\n",
    "    j=j+1\n",
    "\n",
    "با این تکه کد آمده ایم لیستی از ماتریس های هر سگمنت ایجاد کردیم \n",
    "ردبف های اصلی  را ساخته ایم \n",
    "\n",
    "در حلقه بعدی  برای هر سگمنت فاصله همه ردیف ها را با هم حساب کردم \n",
    "distance_segment چون کمترین فاصه با خودش 0 است \n",
    " آن را نن گرفتیم که بتونیم مین را درست بیدا کنم \n",
    "\n",
    "بعدش اومدم و  ایندکس  اصلی نماینده جدید را بیدا کردم و لیست ریختم \n",
    "\n",
    "برای درک کد می تواند کامنت های حلقه دوم را بردارید تا برای یک سگمنت اجرا شود."
   ]
  }
 ],
 "metadata": {
  "kernelspec": {
   "display_name": "Python 3.6.1 64-bit ('Anaconda3')",
   "language": "python",
   "name": "python3"
  },
  "language_info": {
   "codemirror_mode": {
    "name": "ipython",
    "version": 3
   },
   "file_extension": ".py",
   "mimetype": "text/x-python",
   "name": "python",
   "nbconvert_exporter": "python",
   "pygments_lexer": "ipython3",
   "version": "3.6.1"
  },
  "orig_nbformat": 4,
  "vscode": {
   "interpreter": {
    "hash": "ad2bdc8ecc057115af97d19610ffacc2b4e99fae6737bb82f5d7fb13d2f2c186"
   }
  }
 },
 "nbformat": 4,
 "nbformat_minor": 2
}
